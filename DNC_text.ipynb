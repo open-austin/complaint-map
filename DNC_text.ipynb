{
 "cells": [
  {
   "cell_type": "code",
   "execution_count": 1,
   "metadata": {},
   "outputs": [],
   "source": [
    "import spacy\n",
    "import csv\n",
    "from collections import namedtuple\n",
    "from spacy.matcher import PhraseMatcher\n",
    "import re"
   ]
  },
  {
   "cell_type": "code",
   "execution_count": 2,
   "metadata": {},
   "outputs": [],
   "source": [
    "o = \"\"\n",
    "\n",
    "for page in range(1,60):\n",
    "    with open('edited_from_ocr/Complaint-p{}-normal.txt'.format(str(page)),'r') as output:\n",
    "        o = \"\\n\".join([o, output.read()])"
   ]
  },
  {
   "cell_type": "code",
   "execution_count": 3,
   "metadata": {
    "scrolled": false
   },
   "outputs": [],
   "source": [
    "o = o.replace(\"\\n\", \" \").replace(\"Case 1:18-cv-03501 Document 1 Filed 04/20/18 \", \"\")\\\n",
    "    .replace(\"$$\", \"§§\").replace(\" $ \", \" § \").replace(\".$ \", \". § \").replace(\"С\", \"C\")\\\n",
    "    .replace(\" S \", \" § \").replace(\" SS\", \" §§\").replace(\" 55 \",\" §§ \").replace(\"US.C.\", \"U.S.C.\")\\\n",
    "    .replace(\"U.S.C. 8 \", \"U.S.C. § \").replace(\"&well\",\"and well\").replace(\" & \",\", \")"
   ]
  },
  {
   "cell_type": "code",
   "execution_count": 4,
   "metadata": {},
   "outputs": [],
   "source": [
    "for n in range(66):\n",
    "    o = o.replace(f\"Page {n} of 66\", f'**{n}**')\n",
    "    # o = o.replace(f\"Page {n} of 66\", f'<page number=\"{n}\" />')"
   ]
  },
  {
   "cell_type": "code",
   "execution_count": 5,
   "metadata": {},
   "outputs": [],
   "source": [
    "filename = \"./edited_from_ocr/full_complaint.txt\"\n",
    "\n",
    "with open(filename, 'w') as fout:\n",
    "    fout.write(o)"
   ]
  },
  {
   "cell_type": "code",
   "execution_count": 6,
   "metadata": {},
   "outputs": [],
   "source": [
    "# Spacy parsing probably needs to be done before tags are added.\n",
    "\n",
    "o = \"<complaint>\" + o + \"</complaint>\""
   ]
  },
  {
   "cell_type": "code",
   "execution_count": 7,
   "metadata": {},
   "outputs": [],
   "source": [
    "coa = re.compile(r\"((COUNT [IVX]+)[^/d]+?\\)[^/d]+?\\))\")"
   ]
  },
  {
   "cell_type": "code",
   "execution_count": 8,
   "metadata": {},
   "outputs": [],
   "source": [
    "complaint = o[:10000] + re.sub(coa, r'</cause_of_action><cause_of_action count=\"\\2\"><heading>\\1</heading>', o[10000:])"
   ]
  },
  {
   "cell_type": "code",
   "execution_count": 9,
   "metadata": {},
   "outputs": [],
   "source": [
    "complaint = complaint.replace(\"</cause_of_action>\", \"\", 1)\\\n",
    "                     .replace(\"PRAYER FOR RELIEF\", \"</cause_of_action>PRAYER FOR RELIEF\")"
   ]
  },
  {
   "cell_type": "code",
   "execution_count": 10,
   "metadata": {},
   "outputs": [],
   "source": [
    "import xml.etree.ElementTree as ET\n",
    "root = ET.fromstring(complaint)"
   ]
  },
  {
   "cell_type": "code",
   "execution_count": 11,
   "metadata": {},
   "outputs": [],
   "source": [
    "def tag_allegations(s: str):\n",
    "    s = re.sub(r\" (\\d\\d\\d)\\. \", r\"\"\"<allegation para=\"\\1\">\"\"\", s, count=1)\n",
    "    s = re.sub(r\" (\\d\\d\\d)\\. \", r\"\"\"</allegation><allegation para=\"\\1\">\"\"\", s)\n",
    "    return s + \"</allegation>\"\n",
    "\n",
    "# o = tag_allegations(o, 146, 153)"
   ]
  },
  {
   "cell_type": "code",
   "execution_count": 12,
   "metadata": {},
   "outputs": [],
   "source": [
    "for child in root.getchildren():\n",
    "    child[0].tail = tag_allegations(child[0].tail)"
   ]
  },
  {
   "cell_type": "code",
   "execution_count": 13,
   "metadata": {},
   "outputs": [],
   "source": [
    "c = ET.tostring(root, encoding=\"unicode\", method=\"html\")"
   ]
  },
  {
   "cell_type": "code",
   "execution_count": 14,
   "metadata": {},
   "outputs": [],
   "source": [
    "d = c.replace(\"&lt;\", \"<\").replace(\"&gt;\", \">\")"
   ]
  },
  {
   "cell_type": "code",
   "execution_count": 15,
   "metadata": {},
   "outputs": [],
   "source": [
    "with open(\"./xml/complaint.xml\", 'w') as fout:\n",
    "    fout.write(d)"
   ]
  },
  {
   "cell_type": "code",
   "execution_count": null,
   "metadata": {},
   "outputs": [],
   "source": [
    "for a in root.getchildren():\n",
    "    for b in a.getchildren():\n",
    "        print(b)"
   ]
  },
  {
   "cell_type": "code",
   "execution_count": null,
   "metadata": {},
   "outputs": [],
   "source": [
    "parties = []\n",
    "\n",
    "with open(\"./data/parties.csv\", newline=\"\") as infile:\n",
    "    reader = csv.reader(infile)\n",
    "    Party = namedtuple(\"Party\", next(reader))  # get names from column headers\n",
    "    for data in map(Party._make, reader):\n",
    "        parties.append(data)\n",
    "    "
   ]
  },
  {
   "cell_type": "code",
   "execution_count": null,
   "metadata": {},
   "outputs": [],
   "source": [
    "nlp = spacy.load('en_core_web_sm')\n",
    "doc = nlp(o)"
   ]
  },
  {
   "cell_type": "code",
   "execution_count": null,
   "metadata": {},
   "outputs": [],
   "source": [
    "# This is probably overkill. I should just use string methods to highlight/tag the names.\n",
    "\n",
    "party_matches = []\n",
    "\n",
    "def on_match(matcher, doc, uid, matches):\n",
    "    print(f'{uid} matched!')\n",
    "    # party_matches.append((uid, matches, \"Party\"))\n",
    "\n",
    "matcher = PhraseMatcher(nlp.vocab)\n",
    "for p in parties:\n",
    "    if len(p.name) < 10:\n",
    "        matcher.add(p.short_name, on_match, nlp(p.short_name), nlp(p.name))\n",
    "    else: matcher.add(p.short_name, on_match, nlp(p.short_name))\n",
    "    \n",
    "# matches = matcher(doc)"
   ]
  },
  {
   "cell_type": "code",
   "execution_count": null,
   "metadata": {},
   "outputs": [],
   "source": [
    "Entity = namedtuple(\"Entity\", \"text start_char end_char label_\")"
   ]
  },
  {
   "cell_type": "code",
   "execution_count": null,
   "metadata": {},
   "outputs": [],
   "source": [
    "entities = [Entity(e.text, e.start_char, e.end_char, e.label_) for e in doc.ents\n",
    "            if e.label_ not in (\"CARDINAL\", \"ORDINAL\", \"DATE\", \"MONEY\", \"TIME\", \"LAW\", \"FAC\")]"
   ]
  },
  {
   "cell_type": "code",
   "execution_count": null,
   "metadata": {},
   "outputs": [],
   "source": [
    "for sent in list(doc.sents)[460:470]:\n",
    "    print(sent.text)"
   ]
  }
 ],
 "metadata": {
  "kernelspec": {
   "display_name": "Python 3",
   "language": "python",
   "name": "python3"
  },
  "language_info": {
   "codemirror_mode": {
    "name": "ipython",
    "version": 3
   },
   "file_extension": ".py",
   "mimetype": "text/x-python",
   "name": "python",
   "nbconvert_exporter": "python",
   "pygments_lexer": "ipython3",
   "version": "3.6.5"
  }
 },
 "nbformat": 4,
 "nbformat_minor": 2
}
